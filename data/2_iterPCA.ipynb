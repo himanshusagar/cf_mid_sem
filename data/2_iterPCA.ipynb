{
 "cells": [
  {
   "cell_type": "code",
   "execution_count": 1,
   "metadata": {
    "collapsed": true
   },
   "outputs": [],
   "source": [
    "import numpy as np\n",
    "from sklearn.decomposition import PCA, TruncatedSVD\n",
    "from lib import dataset_manager\n",
    "from lib import data_utils\n",
    "from lib import lib_ops\n",
    "\n",
    "import pandas as pd\n",
    "from scipy import stats as stats\n",
    "\n",
    "import numpy as np\n",
    "from sklearn.decomposition import PCA, TruncatedSVD\n",
    "from lib import dataset_manager\n",
    "from lib import data_utils\n",
    "from lib import lib_ops\n",
    "\n",
    "import pandas as pd\n",
    "from scipy import stats as stats\n",
    "\n"
   ]
  },
  {
   "cell_type": "code",
   "execution_count": 3,
   "metadata": {},
   "outputs": [],
   "source": [
    "trainData, testData = dataset_manager.fetch_data_100k_ratings(\"2\")\n"
   ]
  },
  {
   "cell_type": "code",
   "execution_count": 4,
   "metadata": {},
   "outputs": [
    {
     "name": "stdout",
     "output_type": "stream",
     "text": [
      "Fil Cols : Is ANY NAN True\n"
     ]
    }
   ],
   "source": [
    "A_star = data_utils.fillValueWithColMean(trainData)"
   ]
  },
  {
   "cell_type": "code",
   "execution_count": null,
   "metadata": {},
   "outputs": [],
   "source": []
  }
 ],
 "metadata": {
  "kernelspec": {
   "display_name": "Python 2",
   "language": "python",
   "name": "python2"
  },
  "language_info": {
   "codemirror_mode": {
    "name": "ipython",
    "version": 2
   },
   "file_extension": ".py",
   "mimetype": "text/x-python",
   "name": "python",
   "nbconvert_exporter": "python",
   "pygments_lexer": "ipython2",
   "version": "2.7.6"
  }
 },
 "nbformat": 4,
 "nbformat_minor": 0
}
